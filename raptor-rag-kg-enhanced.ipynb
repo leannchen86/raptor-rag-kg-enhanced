{
 "cells": [
  {
   "cell_type": "code",
   "execution_count": null,
   "id": "7f050cf1-9b79-4ebc-b5b0-789d1f34f3dc",
   "metadata": {},
   "outputs": [],
   "source": [
    "pip install -U langchain umap-learn scikit-learn langchain_community tiktoken langchain-openai langchainhub chromadb langchain-anthropic"
   ]
  },
  {
   "cell_type": "markdown",
   "id": "cad1163a-9f3f-48fc-9b30-80add293c056",
   "metadata": {},
   "source": [
    "# Load Knowledge about Hayao Miyazaki from Wikipedia"
   ]
  },
  {
   "cell_type": "code",
   "execution_count": 42,
   "id": "4ca124f2-5391-4673-af2d-121d8702121c",
   "metadata": {},
   "outputs": [],
   "source": [
    "from langchain_community.document_loaders import WikipediaLoader\n",
    "\n",
    "query = \"Hayao Miyazaki\"\n",
    "raw_documents = WikipediaLoader(query=query).load()"
   ]
  },
  {
   "cell_type": "code",
   "execution_count": 43,
   "id": "308ad896-a5b8-4eb0-8b37-ba742093ccdb",
   "metadata": {},
   "outputs": [],
   "source": [
    "# create doc_text as list to store text\n",
    "doc_text = [d.page_content for d in raw_documents]"
   ]
  },
  {
   "cell_type": "code",
   "execution_count": 21,
   "id": "eca7b218-0d5a-49d8-8f69-bca943f7c33d",
   "metadata": {},
   "outputs": [],
   "source": [
    "from langchain_experimental.graph_transformers.diffbot import DiffbotGraphTransformer\n",
    "\n",
    "# load Diffbot Token for later entity and relationship extraction\n",
    "diffbot_api_key = \"Diffbot-token\"\n",
    "os.environ[\"DIFFBOT_API_KEY\"] = diffbot_api_key\n",
    "diffbot_nlp = DiffbotGraphTransformer(diffbot_api_key=diffbot_api_key)\n",
    "\n",
    "# use Diffbot Graph Transformer to extract entities/relationships from Wikipedia articles\n",
    "graph_documents = diffbot_nlp.convert_to_graph_documents(raw_documents)"
   ]
  },
  {
   "cell_type": "code",
   "execution_count": 134,
   "id": "9630dc71-3c65-408b-a28a-65627a42b8fe",
   "metadata": {},
   "outputs": [],
   "source": [
    "# connect to our neo4j database\n",
    "from langchain_community.graphs import Neo4jGraph\n",
    "\n",
    "url = \"neo4j-url\"\n",
    "username = \"neo4j\"\n",
    "password = \"database-pw\"\n",
    "\n",
    "graph = Neo4jGraph(url=url, username=username, password=password)"
   ]
  },
  {
   "cell_type": "code",
   "execution_count": 23,
   "id": "962f19de-b16c-46b1-b845-c08c480de8fb",
   "metadata": {},
   "outputs": [],
   "source": [
    "# import extracted entities and relationships into neo4j graph database\n",
    "graph.add_graph_documents(graph_documents)"
   ]
  },
  {
   "cell_type": "code",
   "execution_count": 52,
   "id": "676c6f48-9975-4492-852a-4fc743222370",
   "metadata": {},
   "outputs": [
    {
     "data": {
      "text/plain": [
       "<function matplotlib.pyplot.show(close=None, block=None)>"
      ]
     },
     "execution_count": 52,
     "metadata": {},
     "output_type": "execute_result"
    },
    {
     "data": {
      "image/png": "[encoded data removed]",
      "text/plain": [
       "<Figure size 1000x600 with 1 Axes>"
      ]
     },
     "metadata": {},
     "output_type": "display_data"
    }
   ],
   "source": [
    "import matplotlib.pyplot as plt\n",
    "import tiktoken\n",
    "cnt = [num_tokens_from_string(d, \"cl100k_base\") for d in doc_text]\n",
    "\n",
    "# Plotting the histogram of token counts\n",
    "plt.figure(figsize=(10, 6))\n",
    "plt.hist(cnt, bins=30, color=\"blue\", edgecolor=\"black\", alpha=0.7)\n",
    "plt.title(\"Histogram of Token Counts\")\n",
    "plt.xlabel(\"Token Count\")\n",
    "plt.ylabel(\"Frequency\")\n",
    "plt.grid(axis=\"y\", alpha=0.75)\n",
    "\n",
    "# Display the histogram\n",
    "plt.show"
   ]
  },
  {
   "cell_type": "code",
   "execution_count": 65,
   "id": "1f6f9395-bb3e-40d9-96e8-f50bb8655e9d",
   "metadata": {},
   "outputs": [
    {
     "name": "stdout",
     "output_type": "stream",
     "text": [
      "Num tokens in all context: 21326\n"
     ]
    }
   ],
   "source": [
    "# Doc texts concatenated all articles\n",
    "d_sorted = sorted(raw_documents, key=lambda x: x.metadata[\"source\"])\n",
    "d_reversed = list(reversed(d_sorted))\n",
    "concatenated_content1 = \"\\n\\n\\n --- \\n\\n\\n\".join(\n",
    "    [doc.page_content for doc in d_reversed]\n",
    ")\n",
    "print(\n",
    "    \"Num tokens in all context: %s\"\n",
    "    % num_tokens_from_string(concatenated_content1, \"cl100k_base\")\n",
    ")"
   ]
  },
  {
   "cell_type": "code",
   "execution_count": 66,
   "id": "6d16dd22-829b-410b-91b5-539dbbe84ef7",
   "metadata": {},
   "outputs": [],
   "source": [
    "# from langchain_text_splitters import RecursiveCharacterTextSplitter\n",
    "\n",
    "# chunk_size_tok = 2000\n",
    "# text_splitter = RecursiveCharacterTextSplitter.from_tiktoken_encoder(\n",
    "#     chunk_size=chunk_size_tok, chunk_overlap=0\n",
    "# )\n",
    "# texts_split = text_splitter.split_text(concatenated_content1)"
   ]
  },
  {
   "cell_type": "code",
   "execution_count": 34,
   "id": "ad2f691e-3e70-44d3-b549-11b69df4660d",
   "metadata": {},
   "outputs": [],
   "source": [
    "from langchain_openai import OpenAIEmbeddings\n",
    "import os\n",
    "\n",
    "os.environ[\"OPENAI_API_KEY\"] = 'openai-api-key'\n",
    "os.environ[\"ANTHROPIC_API_KEY\"] = 'anthropic-api-key'\n",
    "embd = OpenAIEmbeddings()\n",
    "\n",
    "# from langchain_openai import ChatOpenAI\n",
    "\n",
    "# model = ChatOpenAI(temperature=0, model=\"gpt-4-1106-preview\")\n",
    "\n",
    "from langchain_anthropic import ChatAnthropic\n",
    "\n",
    "model = ChatAnthropic(temperature=0, model=\"claude-3-opus-20240229\")"
   ]
  },
  {
   "cell_type": "markdown",
   "id": "f86871c7-6a9d-455e-b6a1-2fda441dee4c",
   "metadata": {},
   "source": [
    "# functions for embedding at document level, clustering and summarizing"
   ]
  },
  {
   "cell_type": "code",
   "execution_count": 68,
   "id": "4bbec8ef-0ce0-4db0-8cb0-dc71831dfbdf",
   "metadata": {},
   "outputs": [],
   "source": [
    "from typing import Dict, List, Optional, Tuple\n",
    "\n",
    "import numpy as np\n",
    "import pandas as pd\n",
    "import umap\n",
    "from langchain.prompts import ChatPromptTemplate\n",
    "from langchain_core.output_parsers import StrOutputParser\n",
    "from sklearn.mixture import GaussianMixture\n",
    "\n",
    "RANDOM_SEED = 224  # Fixed seed for reproducibility\n",
    "\n",
    "### --- Code from citations referenced above (added comments and docstrings) --- ###\n",
    "\n",
    "\n",
    "def global_cluster_embeddings(\n",
    "    embeddings: np.ndarray,\n",
    "    dim: int,\n",
    "    n_neighbors: Optional[int] = None,\n",
    "    metric: str = \"cosine\",\n",
    ") -> np.ndarray:\n",
    "    \"\"\"\n",
    "    Perform global dimensionality reduction on the embeddings using UMAP.\n",
    "\n",
    "    Parameters:\n",
    "    - embeddings: The input embeddings as a numpy array.\n",
    "    - dim: The target dimensionality for the reduced space.\n",
    "    - n_neighbors: Optional; the number of neighbors to consider for each point.\n",
    "                   If not provided, it defaults to the square root of the number of embeddings.\n",
    "    - metric: The distance metric to use for UMAP.\n",
    "\n",
    "    Returns:\n",
    "    - A numpy array of the embeddings reduced to the specified dimensionality.\n",
    "    \"\"\"\n",
    "    if n_neighbors is None:\n",
    "        n_neighbors = int((len(embeddings) - 1) ** 0.5)\n",
    "    return umap.UMAP(\n",
    "        n_neighbors=n_neighbors, n_components=dim, metric=metric\n",
    "    ).fit_transform(embeddings)\n",
    "\n",
    "\n",
    "def local_cluster_embeddings(\n",
    "    embeddings: np.ndarray, dim: int, num_neighbors: int = 10, metric: str = \"cosine\"\n",
    ") -> np.ndarray:\n",
    "    \"\"\"\n",
    "    Perform local dimensionality reduction on the embeddings using UMAP, typically after global clustering.\n",
    "\n",
    "    Parameters:\n",
    "    - embeddings: The input embeddings as a numpy array.\n",
    "    - dim: The target dimensionality for the reduced space.\n",
    "    - num_neighbors: The number of neighbors to consider for each point.\n",
    "    - metric: The distance metric to use for UMAP.\n",
    "\n",
    "    Returns:\n",
    "    - A numpy array of the embeddings reduced to the specified dimensionality.\n",
    "    \"\"\"\n",
    "    return umap.UMAP(\n",
    "        n_neighbors=num_neighbors, n_components=dim, metric=metric\n",
    "    ).fit_transform(embeddings)\n",
    "\n",
    "\n",
    "def get_optimal_clusters(\n",
    "    embeddings: np.ndarray, max_clusters: int = 50, random_state: int = RANDOM_SEED\n",
    ") -> int:\n",
    "    \"\"\"\n",
    "    Determine the optimal number of clusters using the Bayesian Information Criterion (BIC) with a Gaussian Mixture Model.\n",
    "\n",
    "    Parameters:\n",
    "    - embeddings: The input embeddings as a numpy array.\n",
    "    - max_clusters: The maximum number of clusters to consider.\n",
    "    - random_state: Seed for reproducibility.\n",
    "\n",
    "    Returns:\n",
    "    - An integer representing the optimal number of clusters found.\n",
    "    \"\"\"\n",
    "    max_clusters = min(max_clusters, len(embeddings))\n",
    "    n_clusters = np.arange(1, max_clusters)\n",
    "    bics = []\n",
    "    for n in n_clusters:\n",
    "        gm = GaussianMixture(n_components=n, random_state=random_state)\n",
    "        gm.fit(embeddings)\n",
    "        bics.append(gm.bic(embeddings))\n",
    "    return n_clusters[np.argmin(bics)]\n",
    "\n",
    "\n",
    "def GMM_cluster(embeddings: np.ndarray, threshold: float, random_state: int = 0):\n",
    "    \"\"\"\n",
    "    Cluster embeddings using a Gaussian Mixture Model (GMM) based on a probability threshold.\n",
    "\n",
    "    Parameters:\n",
    "    - embeddings: The input embeddings as a numpy array.\n",
    "    - threshold: The probability threshold for assigning an embedding to a cluster.\n",
    "    - random_state: Seed for reproducibility.\n",
    "\n",
    "    Returns:\n",
    "    - A tuple containing the cluster labels and the number of clusters determined.\n",
    "    \"\"\"\n",
    "    n_clusters = get_optimal_clusters(embeddings)\n",
    "    gm = GaussianMixture(n_components=n_clusters, random_state=random_state)\n",
    "    gm.fit(embeddings)\n",
    "    probs = gm.predict_proba(embeddings)\n",
    "    labels = [np.where(prob > threshold)[0] for prob in probs]\n",
    "    return labels, n_clusters\n",
    "\n",
    "\n",
    "def perform_clustering(\n",
    "    embeddings: np.ndarray,\n",
    "    dim: int,\n",
    "    threshold: float,\n",
    ") -> List[np.ndarray]:\n",
    "    \"\"\"\n",
    "    Perform clustering on the embeddings by first reducing their dimensionality globally, then clustering\n",
    "    using a Gaussian Mixture Model, and finally performing local clustering within each global cluster.\n",
    "\n",
    "    Parameters:\n",
    "    - embeddings: The input embeddings as a numpy array.\n",
    "    - dim: The target dimensionality for UMAP reduction.\n",
    "    - threshold: The probability threshold for assigning an embedding to a cluster in GMM.\n",
    "\n",
    "    Returns:\n",
    "    - A list of numpy arrays, where each array contains the cluster IDs for each embedding.\n",
    "    \"\"\"\n",
    "    if len(embeddings) <= dim + 1:\n",
    "        # Avoid clustering when there's insufficient data\n",
    "        return [np.array([0]) for _ in range(len(embeddings))]\n",
    "\n",
    "    # Global dimensionality reduction\n",
    "    reduced_embeddings_global = global_cluster_embeddings(embeddings, dim)\n",
    "    # Global clustering\n",
    "    global_clusters, n_global_clusters = GMM_cluster(\n",
    "        reduced_embeddings_global, threshold\n",
    "    )\n",
    "\n",
    "    all_local_clusters = [np.array([]) for _ in range(len(embeddings))]\n",
    "    total_clusters = 0\n",
    "\n",
    "    # Iterate through each global cluster to perform local clustering\n",
    "    for i in range(n_global_clusters):\n",
    "        # Extract embeddings belonging to the current global cluster\n",
    "        global_cluster_embeddings_ = embeddings[\n",
    "            np.array([i in gc for gc in global_clusters])\n",
    "        ]\n",
    "\n",
    "        if len(global_cluster_embeddings_) == 0:\n",
    "            continue\n",
    "        if len(global_cluster_embeddings_) <= dim + 1:\n",
    "            # Handle small clusters with direct assignment\n",
    "            local_clusters = [np.array([0]) for _ in global_cluster_embeddings_]\n",
    "            n_local_clusters = 1\n",
    "        else:\n",
    "            # Local dimensionality reduction and clustering\n",
    "            reduced_embeddings_local = local_cluster_embeddings(\n",
    "                global_cluster_embeddings_, dim\n",
    "            )\n",
    "            local_clusters, n_local_clusters = GMM_cluster(\n",
    "                reduced_embeddings_local, threshold\n",
    "            )\n",
    "\n",
    "        # Assign local cluster IDs, adjusting for total clusters already processed\n",
    "        for j in range(n_local_clusters):\n",
    "            local_cluster_embeddings_ = global_cluster_embeddings_[\n",
    "                np.array([j in lc for lc in local_clusters])\n",
    "            ]\n",
    "            indices = np.where(\n",
    "                (embeddings == local_cluster_embeddings_[:, None]).all(-1)\n",
    "            )[1]\n",
    "            for idx in indices:\n",
    "                all_local_clusters[idx] = np.append(\n",
    "                    all_local_clusters[idx], j + total_clusters\n",
    "                )\n",
    "\n",
    "        total_clusters += n_local_clusters\n",
    "\n",
    "    return all_local_clusters\n",
    "\n",
    "\n",
    "### --- Our code below --- ###\n",
    "\n",
    "\n",
    "def embed(texts):\n",
    "    \"\"\"\n",
    "    Generate embeddings for a list of text documents.\n",
    "\n",
    "    This function assumes the existence of an `embd` object with a method `embed_documents`\n",
    "    that takes a list of texts and returns their embeddings.\n",
    "\n",
    "    Parameters:\n",
    "    - texts: List[str], a list of text documents to be embedded.\n",
    "\n",
    "    Returns:\n",
    "    - numpy.ndarray: An array of embeddings for the given text documents.\n",
    "    \"\"\"\n",
    "    text_embeddings = embd.embed_documents(texts)\n",
    "    text_embeddings_np = np.array(text_embeddings)\n",
    "    return text_embeddings_np\n",
    "\n",
    "\n",
    "def embed_cluster_texts(texts):\n",
    "    \"\"\"\n",
    "    Embeds a list of texts and clusters them, returning a DataFrame with texts, their embeddings, and cluster labels.\n",
    "\n",
    "    This function combines embedding generation and clustering into a single step. It assumes the existence\n",
    "    of a previously defined `perform_clustering` function that performs clustering on the embeddings.\n",
    "\n",
    "    Parameters:\n",
    "    - texts: List[str], a list of text documents to be processed.\n",
    "\n",
    "    Returns:\n",
    "    - pandas.DataFrame: A DataFrame containing the original texts, their embeddings, and the assigned cluster labels.\n",
    "    \"\"\"\n",
    "    text_embeddings_np = embed(texts)  # Generate embeddings\n",
    "    cluster_labels = perform_clustering(\n",
    "        text_embeddings_np, 10, 0.1\n",
    "    )  # Perform clustering on the embeddings\n",
    "    df = pd.DataFrame()  # Initialize a DataFrame to store the results\n",
    "    df[\"text\"] = texts  # Store original texts\n",
    "    df[\"embd\"] = list(text_embeddings_np)  # Store embeddings as a list in the DataFrame\n",
    "    df[\"cluster\"] = cluster_labels  # Store cluster labels\n",
    "    return df\n",
    "\n",
    "\n",
    "def fmt_txt(df: pd.DataFrame) -> str:\n",
    "    \"\"\"\n",
    "    Formats the text documents in a DataFrame into a single string.\n",
    "\n",
    "    Parameters:\n",
    "    - df: DataFrame containing the 'text' column with text documents to format.\n",
    "\n",
    "    Returns:\n",
    "    - A single string where all text documents are joined by a specific delimiter.\n",
    "    \"\"\"\n",
    "    unique_txt = df[\"text\"].tolist()\n",
    "    return \"--- --- \\n --- --- \".join(unique_txt)\n",
    "\n",
    "\n",
    "def embed_cluster_summarize_texts(\n",
    "    texts: List[str], level: int\n",
    ") -> Tuple[pd.DataFrame, pd.DataFrame]:\n",
    "    \"\"\"\n",
    "    Embeds, clusters, and summarizes a list of texts. This function first generates embeddings for the texts,\n",
    "    clusters them based on similarity, expands the cluster assignments for easier processing, and then summarizes\n",
    "    the content within each cluster.\n",
    "\n",
    "    Parameters:\n",
    "    - texts: A list of text documents to be processed.\n",
    "    - level: An integer parameter that could define the depth or detail of processing.\n",
    "\n",
    "    Returns:\n",
    "    - Tuple containing two DataFrames:\n",
    "      1. The first DataFrame (`df_clusters`) includes the original texts, their embeddings, and cluster assignments.\n",
    "      2. The second DataFrame (`df_summary`) contains summaries for each cluster, the specified level of detail,\n",
    "         and the cluster identifiers.\n",
    "    \"\"\"\n",
    "\n",
    "    # Embed and cluster the texts, resulting in a DataFrame with 'text', 'embd', and 'cluster' columns\n",
    "    df_clusters = embed_cluster_texts(texts)\n",
    "\n",
    "    # Prepare to expand the DataFrame for easier manipulation of clusters\n",
    "    expanded_list = []\n",
    "\n",
    "    # Expand DataFrame entries to document-cluster pairings for straightforward processing\n",
    "    for index, row in df_clusters.iterrows():\n",
    "        for cluster in row[\"cluster\"]:\n",
    "            expanded_list.append(\n",
    "                {\"text\": row[\"text\"], \"embd\": row[\"embd\"], \"cluster\": cluster}\n",
    "            )\n",
    "\n",
    "    # Create a new DataFrame from the expanded list\n",
    "    expanded_df = pd.DataFrame(expanded_list)\n",
    "\n",
    "    # Retrieve unique cluster identifiers for processing\n",
    "    all_clusters = expanded_df[\"cluster\"].unique()\n",
    "\n",
    "    print(f\"--Generated {len(all_clusters)} clusters--\")\n",
    "\n",
    "    # Summarization\n",
    "    template = \"\"\"Here is a sub-set of LangChain Expression Langauge doc. \n",
    "    \n",
    "    LangChain Expression Langauge provides a way to compose chain in LangChain.\n",
    "    \n",
    "    Give a detailed summary of the documentation provided.\n",
    "    \n",
    "    Documentation:\n",
    "    {context}\n",
    "    \"\"\"\n",
    "    prompt = ChatPromptTemplate.from_template(template)\n",
    "    chain = prompt | model | StrOutputParser()\n",
    "\n",
    "    # Format text within each cluster for summarization\n",
    "    summaries = []\n",
    "    for i in all_clusters:\n",
    "        df_cluster = expanded_df[expanded_df[\"cluster\"] == i]\n",
    "        formatted_txt = fmt_txt(df_cluster)\n",
    "        summaries.append(chain.invoke({\"context\": formatted_txt}))\n",
    "\n",
    "    # Create a DataFrame to store summaries with their corresponding cluster and level\n",
    "    df_summary = pd.DataFrame(\n",
    "        {\n",
    "            \"summaries\": summaries,\n",
    "            \"level\": [level] * len(summaries),\n",
    "            \"cluster\": list(all_clusters),\n",
    "        }\n",
    "    )\n",
    "\n",
    "    return df_clusters, df_summary\n",
    "\n",
    "\n",
    "def recursive_embed_cluster_summarize(\n",
    "    texts: List[str], level: int = 1, n_levels: int = 3\n",
    ") -> Dict[int, Tuple[pd.DataFrame, pd.DataFrame]]:\n",
    "    \"\"\"\n",
    "    Recursively embeds, clusters, and summarizes texts up to a specified level or until\n",
    "    the number of unique clusters becomes 1, storing the results at each level.\n",
    "\n",
    "    Parameters:\n",
    "    - texts: List[str], texts to be processed.\n",
    "    - level: int, current recursion level (starts at 1).\n",
    "    - n_levels: int, maximum depth of recursion.\n",
    "\n",
    "    Returns:\n",
    "    - Dict[int, Tuple[pd.DataFrame, pd.DataFrame]], a dictionary where keys are the recursion\n",
    "      levels and values are tuples containing the clusters DataFrame and summaries DataFrame at that level.\n",
    "    \"\"\"\n",
    "    results = {}  # Dictionary to store results at each level\n",
    "\n",
    "    # Perform embedding, clustering, and summarization for the current level\n",
    "    df_clusters, df_summary = embed_cluster_summarize_texts(texts, level)\n",
    "\n",
    "    # Store the results of the current level\n",
    "    results[level] = (df_clusters, df_summary)\n",
    "\n",
    "    # Determine if further recursion is possible and meaningful\n",
    "    unique_clusters = df_summary[\"cluster\"].nunique()\n",
    "    if level < n_levels and unique_clusters > 1:\n",
    "        # Use summaries as the input texts for the next level of recursion\n",
    "        new_texts = df_summary[\"summaries\"].tolist()\n",
    "        next_level_results = recursive_embed_cluster_summarize(\n",
    "            new_texts, level + 1, n_levels\n",
    "        )\n",
    "\n",
    "        # Merge the results from the next level into the current results dictionary\n",
    "        results.update(next_level_results)\n",
    "\n",
    "    return results"
   ]
  },
  {
   "cell_type": "code",
   "execution_count": 69,
   "id": "64294fdc-f7bc-41ec-8ff3-9192ed722922",
   "metadata": {},
   "outputs": [
    {
     "name": "stdout",
     "output_type": "stream",
     "text": [
      "--Generated 5 clusters--\n",
      "--Generated 1 clusters--\n"
     ]
    }
   ],
   "source": [
    "# Build document tree\n",
    "leaf_texts = doc_text\n",
    "results = recursive_embed_cluster_summarize(leaf_texts, level=1, n_levels=3)"
   ]
  },
  {
   "cell_type": "code",
   "execution_count": 70,
   "id": "ca000d83-ab51-4b94-965c-efbe2a4c2e3d",
   "metadata": {},
   "outputs": [],
   "source": [
    "from langchain_community.vectorstores import Chroma\n",
    "\n",
    "# Initialize all_texts with leaf_texts\n",
    "all_texts = leaf_texts.copy()\n",
    "\n",
    "# Iterate through the results to extract summaries from each level and add them to all_texts\n",
    "for level in sorted(results.keys()):\n",
    "    # Extract summaries from the current level's DataFrame\n",
    "    summaries = results[level][1][\"summaries\"].tolist()\n",
    "    # Extend all_texts with the summaries from the current level\n",
    "    all_texts.extend(summaries)\n",
    "\n",
    "# Now, use all_texts to build the vectorstore with Chroma\n",
    "vectorstore = Chroma.from_texts(texts=all_texts, embedding=embd)\n",
    "retriever = vectorstore.as_retriever()"
   ]
  },
  {
   "cell_type": "code",
   "execution_count": 132,
   "id": "b5eb5a8d-2d58-44d7-bd35-b7b5badfe025",
   "metadata": {},
   "outputs": [],
   "source": [
    "from langchain import hub\n",
    "from langchain_core.runnables import RunnablePassthrough\n",
    "\n",
    "# Prompt\n",
    "prompt = hub.pull(\"rlm/rag-prompt\")\n",
    "\n",
    "\n",
    "# Post-processing\n",
    "def format_docs(docs):\n",
    "    return \"\\n\\n\".join(doc.page_content for doc in docs)\n",
    "\n",
    "\n",
    "# Chain\n",
    "rag_chain = (\n",
    "    {\"context\": retriever | format_docs, \"question\": RunnablePassthrough()}\n",
    "    | prompt\n",
    "    | model\n",
    "    | StrOutputParser()\n",
    ")\n",
    "\n",
    "# Question\n",
    "originalAns_achievement = rag_chain.invoke(\"Tell me about Hayao Miyazaki's career achievements.\")"
   ]
  },
  {
   "cell_type": "code",
   "execution_count": 137,
   "id": "b03a0ef2-23ec-49cb-b14d-2a6f4c6d1b6c",
   "metadata": {},
   "outputs": [
    {
     "data": {
      "text/plain": [
       "'Hayao Miyazaki is a renowned Japanese animator, filmmaker, and manga artist. He co-founded Studio Ghibli and has directed many critically acclaimed and commercially successful animated films, including Spirited Away which won the Academy Award for Best Animated Feature in 2003. Miyazaki is widely regarded as one of the most accomplished filmmakers in the history of animation.'"
      ]
     },
     "execution_count": 137,
     "metadata": {},
     "output_type": "execute_result"
    }
   ],
   "source": [
    "originalAns_achievement"
   ]
  },
  {
   "cell_type": "code",
   "execution_count": 116,
   "id": "8122879f-10ab-4d8e-8ca6-5edebaa97781",
   "metadata": {},
   "outputs": [],
   "source": [
    "# question No.2\n",
    "originalAns_colleagues = rag_chain.invoke(\"Who work with Hayao Miyazaki?\")"
   ]
  },
  {
   "cell_type": "code",
   "execution_count": 117,
   "id": "763af999-0dad-461d-9b8b-7f5c99e41f08",
   "metadata": {},
   "outputs": [
    {
     "data": {
      "text/plain": [
       "'According to the context, Hayao Miyazaki co-founded Studio Ghibli with Isao Takahata in 1985. Miyazaki and Takahata had a long history of collaboration, working together at Toei Animation and other studios on various projects before founding Studio Ghibli.'"
      ]
     },
     "execution_count": 117,
     "metadata": {},
     "output_type": "execute_result"
    }
   ],
   "source": [
    "originalAns_colleagues"
   ]
  },
  {
   "cell_type": "code",
   "execution_count": 84,
   "id": "ffad984c-1dc6-4954-aee3-f96021449466",
   "metadata": {},
   "outputs": [
    {
     "data": {
      "text/plain": [
       "\"Based on the provided context, it does not explicitly state whether Joe Hisaishi is a colleague of Hayao Miyazaki. The context focuses on Miyazaki's life, career, and collaborations with other individuals like Isao Takahata and Toshio Suzuki, but it does not mention Joe Hisaishi.\""
      ]
     },
     "execution_count": 84,
     "metadata": {},
     "output_type": "execute_result"
    }
   ],
   "source": [
    "rag_chain.invoke(\"Is Joe Hisaishi colleague of Hayao Miyazaki?\")"
   ]
  },
  {
   "cell_type": "code",
   "execution_count": 91,
   "id": "06984d71-3ef6-49a3-9696-7dae8518eda6",
   "metadata": {},
   "outputs": [
    {
     "name": "stdout",
     "output_type": "stream",
     "text": [
      "3\n",
      "4\n",
      "10\n",
      "21\n",
      "22\n"
     ]
    }
   ],
   "source": [
    "# check if Joe Hisaishi is in the context\n",
    "for i in range(len(doc_text)):\n",
    "    if \"Hisaishi\" in doc_text[i]:\n",
    "        print(i)"
   ]
  },
  {
   "cell_type": "code",
   "execution_count": 143,
   "id": "3d2491a1-c463-4c43-bc95-d2ad8e04f2d4",
   "metadata": {},
   "outputs": [
    {
     "data": {
      "text/plain": [
       "'The Boy and the Heron (Japanese: 君たちはどう生きるか, Hepburn: Kimitachi wa Dō Ikiru ka, lit.\\u2009\\'How Do You Live?\\') is a 2023 Japanese animated fantasy film written and directed by Hayao Miyazaki. Produced by Studio Ghibli, the Japanese title references Genzaburō Yoshino\\'s 1937 novel of the same name but is not an adaptation of it. The Japanese voice cast includes Soma Santoki, Masaki Suda, Ko Shibasaki, Aimyon, Yoshino Kimura, Takuya Kimura, Kaoru Kobayashi, and Shinobu Otake. Described as a \"big fantastical film\", it follows a boy named Mahito Maki during the Pacific War who moves to the countryside after his mother\\'s death, discovers an abandoned tower near his new home, and enters a fantastical world with a talking grey heron.\\nMiyazaki announced his retirement in September 2013 but later reversed this decision after working on the short film Boro the Caterpillar (2018). He began storyboarding for a new feature-length project in July 2016, and official production began in May 2017. The film\\'s title was announced in October 2017, targeting a release around the 2020 Summer Olympics. By May 2020, 36 minutes of the film had been hand-drawn by 60 animators, with no set deadline. Production spanned approximately seven years, facing delays as it navigated challenges related to the COVID-19 pandemic and Miyazaki\\'s slowed animation pace, before nearing completion in October 2022. Financing for the project involved streaming deals for previous Ghibli films. According to producer Toshio Suzuki, The Boy and the Heron is the most expensive film ever produced in Japan. The screenplay draws heavily from Miyazaki\\'s childhood and explores themes of coming of age and coping with a world marked by conflict and loss. Joe Hisaishi composed the film\\'s score, while Kenshi Yonezu wrote and sang the film\\'s theme song \"Spinning Globe\".\\nThe Boy and the Heron was theatrically released in Japan on July 14, 2023, by Toho, and was screened in both traditional theaters and other premium formats such as IMAX. The release was noted for its intentional absence of any promotion, with Ghibli choosing not to release any trailers, images, synopsis, or casting details of the film in advance of its Japanese premiere except a single poster. The film received critical acclaim and has grossed US$167 million worldwide. Among its numerous accolades, it won the BAFTA Award for Best Animated Film, the Golden Globe Award for Best Animated Feature Film, and the Academy Award for Best Animated Feature.\\n\\n\\n== Plot ==\\nDuring the Pacific War in Tokyo, Mahito Maki loses his mother Hisako in a hospital fire. Mahito\\'s father Shoichi, an air munitions factory owner, marries his late wife\\'s sister, Natsuko, and they evacuate to her rural estate. Mahito, distant to the pregnant Natsuko, encounters a peculiar grey heron leading him to a sealed tower, the last known location of Natsuko\\'s architect granduncle.\\nAfter a school fight, Mahito deliberately injures himself. The heron, now speaking, entices Mahito with promises of finding his mother. Mahito is nearly taken by a supernatural swarm of toads but Natsuko saves him with a whistling arrow, inspiring him to craft his own bow and arrow. The arrow is magically imbued with true aim after it is fletched with the heron\\'s feather. Mahito\\'s reading of a book left by Hisako is interrupted when an ill Natsuko disappears into the forest. Leading one of the estate\\'s elderly maids, Kiriko, into the tower, Mahito is deceived by a watery imitation of his mother made by the heron, which dissolves at his touch. Affronted, he pierces the heron\\'s beak with his arrow, revealing a flightless creature, the Birdman, living inside it. A wizard appears, ordering Birdman to guide Mahito and Kiriko as all three sink into the floor.\\nMahito descends into an oceanic world. He is rescued from attacking pelicans and a forbidding, megalithic dolmen by a younger Kiriko, an adept fisherwoman who uses fire through a magic wand. They catch and sell a giant fish to bubble-like spi'"
      ]
     },
     "execution_count": 143,
     "metadata": {},
     "output_type": "execute_result"
    }
   ],
   "source": [
    "doc_text[3]"
   ]
  },
  {
   "cell_type": "code",
   "execution_count": 87,
   "id": "bad285df-c478-42b8-ab69-0cd1cd637381",
   "metadata": {},
   "outputs": [
    {
     "data": {
      "text/plain": [
       "'I apologize, but the provided context does not contain any information about Joe Hisaishi. The text is about the lives and careers of Hayao Miyazaki, Toshio Suzuki, and Isao Takahata, who are all prominent figures in the Japanese animation industry, but there is no mention of Joe Hisaishi.'"
      ]
     },
     "execution_count": 87,
     "metadata": {},
     "output_type": "execute_result"
    }
   ],
   "source": [
    "rag_chain.invoke(\"Tell me about joe hisaishi in the provided context.\")"
   ]
  },
  {
   "cell_type": "markdown",
   "id": "66dfcb1b-8581-40d4-977e-ec9b7f588915",
   "metadata": {},
   "source": [
    "So it looks like long-context vector search couldn't capture every detail from the documents"
   ]
  },
  {
   "cell_type": "code",
   "execution_count": 75,
   "id": "9e92bb70-b3af-490a-a791-74acec59b498",
   "metadata": {},
   "outputs": [],
   "source": [
    "from langchain.chains import GraphCypherQAChain\n",
    "from langchain_openai import ChatOpenAI\n",
    "openai_api_key = 'your-openai-key'\n",
    "cypher_chain = GraphCypherQAChain.from_llm(\n",
    "    cypher_llm=ChatOpenAI(temperature=0, model_name='gpt-4-0125-preview', api_key=openai_api_key),\n",
    "    qa_llm=ChatOpenAI(temperature=0, api_key=openai_api_key),\n",
    "    graph=graph,\n",
    "    verbose=True,\n",
    "    return_intermediate_steps=True\n",
    ")"
   ]
  },
  {
   "cell_type": "markdown",
   "id": "f717212b-5d78-4039-8ae5-4798236d9cd8",
   "metadata": {},
   "source": [
    "# Enhance the original answer with structured information from knowledge graph via GraphCypherQAChain"
   ]
  },
  {
   "cell_type": "code",
   "execution_count": 102,
   "id": "14b9c3a3-e30b-4cee-99a3-c17f97c23ab1",
   "metadata": {},
   "outputs": [],
   "source": [
    "from langchain.chains import GraphCypherQAChain\n",
    "from langchain_community.graphs import Neo4jGraph\n",
    "from langchain_openai import ChatOpenAI"
   ]
  },
  {
   "cell_type": "code",
   "execution_count": 135,
   "id": "68513358-5020-4c69-a06c-d332552f89a9",
   "metadata": {},
   "outputs": [
    {
     "name": "stdout",
     "output_type": "stream",
     "text": [
      "Node properties are the following:\n",
      "Person {id: STRING, name: STRING, dateOfBirth: STRING, positionHeld: STRING, dateOfDeath: STRING, causeOfDeath: STRING},Organization {id: STRING, name: STRING, foundingDate: STRING},Skill {id: STRING, name: STRING},Award {id: STRING, name: STRING},Location {id: STRING, name: STRING}\n",
      "Relationship properties are the following:\n",
      "EMPLOYEE_OR_MEMBER_OF {evidence: STRING, startTime: STRING, positionHeld: STRING, isNotCurrent: STRING, isCurrent: STRING},FOUNDED_BY {evidence: STRING},WORK_RELATIONSHIP {evidence: STRING},INTERESTED_IN {evidence: STRING},AWARDS {evidence: STRING},PLACE_OF_BIRTH {evidence: STRING},PERSON_LOCATION {evidence: STRING},NATIONALITY {evidence: STRING},INDUSTRY {evidence: STRING},ORGANIZATION_LOCATIONS {evidence: STRING, isCurrent: STRING},FAMILY_MEMBER {evidence: STRING, isCurrent: STRING},SOCIAL_RELATIONSHIP {evidence: STRING, isCurrent: STRING},HAS_PARENT {evidence: STRING},SIBLING {evidence: STRING},AUTHOR_OF {evidence: STRING, pointInTime: STRING},HAS_CHILD {evidence: STRING},PARTNERSHIP {evidence: STRING},FIELD_OF_WORK {evidence: STRING},CHIEF_EXECUTIVE_OFFICER {evidence: STRING, isNotCurrent: STRING},CONTRIBUTED_TO {evidence: STRING},EDUCATED_AT {evidence: STRING, isNotCurrent: STRING, endTime: STRING, startTime: STRING},ROMANTIC_RELATIONSHIP {evidence: STRING, isCurrent: STRING},SPOUSE {evidence: STRING, isCurrent: STRING}\n",
      "The relationships are the following:\n",
      "(:Person)-[:EMPLOYEE_OR_MEMBER_OF]->(:Organization),(:Person)-[:WORK_RELATIONSHIP]->(:Person),(:Person)-[:INTERESTED_IN]->(:Skill),(:Person)-[:AWARDS]->(:Award),(:Person)-[:PLACE_OF_BIRTH]->(:Location),(:Person)-[:PLACE_OF_BIRTH]->(:Organization),(:Person)-[:PERSON_LOCATION]->(:Location),(:Person)-[:PERSON_LOCATION]->(:Organization),(:Person)-[:NATIONALITY]->(:Location),(:Person)-[:FAMILY_MEMBER]->(:Person),(:Person)-[:SOCIAL_RELATIONSHIP]->(:Person),(:Person)-[:HAS_CHILD]->(:Person),(:Person)-[:CONTRIBUTED_TO]->(:Skill),(:Person)-[:HAS_PARENT]->(:Person),(:Person)-[:AUTHOR_OF]->(:Skill),(:Person)-[:FIELD_OF_WORK]->(:Skill),(:Person)-[:EDUCATED_AT]->(:Organization),(:Person)-[:SIBLING]->(:Person),(:Person)-[:ROMANTIC_RELATIONSHIP]->(:Person),(:Person)-[:SPOUSE]->(:Person),(:Organization)-[:FOUNDED_BY]->(:Person),(:Organization)-[:INDUSTRY]->(:Skill),(:Organization)-[:ORGANIZATION_LOCATIONS]->(:Organization),(:Organization)-[:ORGANIZATION_LOCATIONS]->(:Location),(:Organization)-[:CHIEF_EXECUTIVE_OFFICER]->(:Person),(:Organization)-[:PARTNERSHIP]->(:Organization)\n"
     ]
    }
   ],
   "source": [
    "print(graph.schema)"
   ]
  },
  {
   "cell_type": "code",
   "execution_count": 136,
   "id": "e3acc306-d76e-4836-b016-3331eb903799",
   "metadata": {},
   "outputs": [],
   "source": [
    "chain = GraphCypherQAChain.from_llm(\n",
    "    ChatOpenAI(model=\"gpt-4-0125-preview\", temperature=0), graph=graph, verbose=True, return_intermediate_steps=True\n",
    ")"
   ]
  },
  {
   "cell_type": "code",
   "execution_count": 126,
   "id": "9641ef5d-be3a-4fe8-80b3-e2d7c90edec2",
   "metadata": {},
   "outputs": [
    {
     "name": "stdout",
     "output_type": "stream",
     "text": [
      "\n",
      "\n",
      "\u001b[1m> Entering new GraphCypherQAChain chain...\u001b[0m\n",
      "Generated Cypher:\n",
      "\u001b[32;1m\u001b[1;3mcypher\n",
      "MATCH (p:Person {name: \"Hayao Miyazaki\"})-[:WORK_RELATIONSHIP]->(colleague:Person)\n",
      "RETURN colleague.name AS ColleagueName\n",
      "\u001b[0m\n",
      "Full Context:\n",
      "\u001b[32;1m\u001b[1;3m[{'ColleagueName': 'Isao Takahata'}, {'ColleagueName': 'Toshio Suzuki'}, {'ColleagueName': 'Joe Hisaishi'}]\u001b[0m\n",
      "\n",
      "\u001b[1m> Finished chain.\u001b[0m\n"
     ]
    }
   ],
   "source": [
    "result_kg_colleagues = chain(\"Who work with Hayao Miyazaki?\")"
   ]
  },
  {
   "cell_type": "code",
   "execution_count": 127,
   "id": "134fb590-7064-4035-be67-09b20ec71aa9",
   "metadata": {},
   "outputs": [
    {
     "data": {
      "text/plain": [
       "{'query': 'Who work with Hayao Miyazaki?',\n",
       " 'result': 'Isao Takahata, Toshio Suzuki, and Joe Hisaishi work with Hayao Miyazaki.',\n",
       " 'intermediate_steps': [{'query': 'cypher\\nMATCH (p:Person {name: \"Hayao Miyazaki\"})-[:WORK_RELATIONSHIP]->(colleague:Person)\\nRETURN colleague.name AS ColleagueName\\n'},\n",
       "  {'context': [{'ColleagueName': 'Isao Takahata'},\n",
       "    {'ColleagueName': 'Toshio Suzuki'},\n",
       "    {'ColleagueName': 'Joe Hisaishi'}]}]}"
      ]
     },
     "execution_count": 127,
     "metadata": {},
     "output_type": "execute_result"
    }
   ],
   "source": [
    "result_kg_colleagues"
   ]
  },
  {
   "cell_type": "code",
   "execution_count": 130,
   "id": "4a1d96a7-1eb7-4dbf-a807-f59623f2ee9b",
   "metadata": {},
   "outputs": [
    {
     "name": "stdout",
     "output_type": "stream",
     "text": [
      "\n",
      "\n",
      "\u001b[1m> Entering new GraphCypherQAChain chain...\u001b[0m\n",
      "Generated Cypher:\n",
      "\u001b[32;1m\u001b[1;3mcypher\n",
      "MATCH (p:Person {name: \"Hayao Miyazaki\"})-[:AWARDS]->(a:Award)\n",
      "RETURN p.name AS Name, collect(a.name) AS CareerAchievements\n",
      "\u001b[0m\n",
      "Full Context:\n",
      "\u001b[32;1m\u001b[1;3m[{'Name': 'Hayao Miyazaki', 'CareerAchievements': ['Academy Award for Best Animated Feature', 'Person of Cultural Merit', 'Academy Honorary Award', 'Japan Academy Prize for Picture of the Year']}]\u001b[0m\n",
      "\n",
      "\u001b[1m> Finished chain.\u001b[0m\n"
     ]
    }
   ],
   "source": [
    "# additional questions\n",
    "result_kg_achievements = chain(\"Tell me about Hayao Miyazaki's career achievements.\")"
   ]
  },
  {
   "cell_type": "code",
   "execution_count": 131,
   "id": "25d2fde2-f71d-4d2a-9f89-457f8e687c47",
   "metadata": {},
   "outputs": [
    {
     "data": {
      "text/plain": [
       "{'query': \"Tell me about Hayao Miyazaki's career achievements.\",\n",
       " 'result': \"Hayao Miyazaki's career achievements include winning the Academy Award for Best Animated Feature, being named a Person of Cultural Merit, receiving the Academy Honorary Award, and winning the Japan Academy Prize for Picture of the Year.\",\n",
       " 'intermediate_steps': [{'query': 'cypher\\nMATCH (p:Person {name: \"Hayao Miyazaki\"})-[:AWARDS]->(a:Award)\\nRETURN p.name AS Name, collect(a.name) AS CareerAchievements\\n'},\n",
       "  {'context': [{'Name': 'Hayao Miyazaki',\n",
       "     'CareerAchievements': ['Academy Award for Best Animated Feature',\n",
       "      'Person of Cultural Merit',\n",
       "      'Academy Honorary Award',\n",
       "      'Japan Academy Prize for Picture of the Year']}]}]}"
      ]
     },
     "execution_count": 131,
     "metadata": {},
     "output_type": "execute_result"
    }
   ],
   "source": [
    "result_kg_achievements"
   ]
  },
  {
   "cell_type": "code",
   "execution_count": 114,
   "id": "e0bd0169-a3f7-4a84-8f0e-22c53610ee60",
   "metadata": {},
   "outputs": [],
   "source": [
    "# Enhance the final answer for the question about Hayao Miyazaki"
   ]
  },
  {
   "cell_type": "code",
   "execution_count": 119,
   "id": "968a355e-81e2-4f61-8a31-cbe2990a493e",
   "metadata": {},
   "outputs": [],
   "source": [
    "from langchain_core.messages import HumanMessage, SystemMessage\n",
    "from langchain_core.prompts.chat import (\n",
    "    ChatPromptTemplate,\n",
    "    HumanMessagePromptTemplate,\n",
    "    SystemMessagePromptTemplate,\n",
    ")\n",
    "from langchain_openai import ChatOpenAI"
   ]
  },
  {
   "cell_type": "code",
   "execution_count": 128,
   "id": "4bb19260-dc04-4036-b7ab-33a4b4d2a32a",
   "metadata": {},
   "outputs": [],
   "source": [
    "chat = ChatOpenAI(model=\"gpt-4-0125-preview\", temperature=0, openai_api_key=openai_api_key)\n",
    "messages = [\n",
    "    SystemMessage(\n",
    "        content=\"You are a helpful assistant who generates information grounded with facts. Please enhance the original answer with complementary entity and relationship information from the knowledge graph to generate the final answer.\"\n",
    "    ),\n",
    "    HumanMessage(\n",
    "        content= f\"{originalAns_colleagues} + {result_kg_colleagues}\"\n",
    "    ),\n",
    "]\n",
    "final_ans_colleague = chat.invoke(messages)"
   ]
  },
  {
   "cell_type": "code",
   "execution_count": 129,
   "id": "ea2de959-1cc5-4a6e-9947-14068226ac18",
   "metadata": {},
   "outputs": [
    {
     "data": {
      "text/plain": [
       "AIMessage(content=\"Hayao Miyazaki, a renowned filmmaker and animator, co-founded Studio Ghibli with Isao Takahata in 1985. Their collaboration dates back to their time at Toei Animation and other studios, where they worked together on various projects. This partnership led to the establishment of Studio Ghibli, which has since become a household name in the animation industry, known for its captivating stories and distinctive animation style.\\n\\nIn addition to Isao Takahata, Miyazaki has worked closely with other key figures in the animation and film industry. Toshio Suzuki, a producer, has been instrumental in the success of Studio Ghibli. Suzuki joined the studio early in its history and has produced many of Ghibli's films, playing a crucial role in their development and international success.\\n\\nJoe Hisaishi, a composer, has also had a significant collaboration with Hayao Miyazaki. Hisaishi has composed the scores for many of Miyazaki's films, creating memorable music that has become synonymous with the films themselves. His compositions have contributed greatly to the emotional depth and atmosphere of Miyazaki's works, enhancing the storytelling and leaving a lasting impact on audiences.\\n\\nTogether, Isao Takahata, Toshio Suzuki, and Joe Hisaishi have been key collaborators with Hayao Miyazaki, contributing to the unique and beloved films produced by Studio Ghibli. Their combined talents and efforts have made Studio Ghibli a leader in the animation industry, with a legacy of films that continue to enchant and inspire viewers around the world.\")"
      ]
     },
     "execution_count": 129,
     "metadata": {},
     "output_type": "execute_result"
    }
   ],
   "source": [
    "# enhanced answer about Hayao Miyazaki's work relationship\n",
    "final_ans_colleague"
   ]
  },
  {
   "cell_type": "code",
   "execution_count": 141,
   "id": "9a779413-5ddd-432e-b17e-37250ce4a1d6",
   "metadata": {},
   "outputs": [
    {
     "data": {
      "text/plain": [
       "'According to the context, Hayao Miyazaki co-founded Studio Ghibli with Isao Takahata in 1985. Miyazaki and Takahata had a long history of collaboration, working together at Toei Animation and other studios on various projects before founding Studio Ghibli.'"
      ]
     },
     "execution_count": 141,
     "metadata": {},
     "output_type": "execute_result"
    }
   ],
   "source": [
    "originalAns_colleagues"
   ]
  },
  {
   "cell_type": "code",
   "execution_count": 138,
   "id": "217a354f-81ce-4989-bc7d-ef2d96f4ffcd",
   "metadata": {},
   "outputs": [
    {
     "data": {
      "text/plain": [
       "AIMessage(content='Hayao Miyazaki, a luminary in the world of animation, has garnered numerous accolades throughout his illustrious career, underscoring his profound impact on the industry and culture at large. His achievements include winning the prestigious Academy Award for Best Animated Feature for \"Spirited Away,\" a film that not only captivated audiences worldwide but also showcased the depth of storytelling and artistic excellence achievable in animation. This particular award, presented at the 75th Academy Awards in 2003, marked a significant recognition of Miyazaki\\'s work on an international scale.\\n\\nIn addition to this, Miyazaki has been honored as a Person of Cultural Merit in Japan, a distinction that highlights his contributions to Japanese culture and the arts. This accolade is reserved for individuals who have made outstanding cultural contributions, and Miyazaki\\'s inclusion in this esteemed group speaks volumes about his influence and legacy in Japan and beyond.\\n\\nMiyazaki\\'s contributions to cinema were further recognized with the Academy Honorary Award, an Oscar awarded by the Academy of Motion Picture Arts and Sciences to celebrate extraordinary distinction in lifetime achievement, exceptional contributions to the state of motion picture arts and sciences, or for outstanding service to the Academy. This award, which he received in 2014, is a testament to his enduring impact on the film industry and his status as a visionary in animation.\\n\\nMoreover, Miyazaki\\'s work has been celebrated in his home country with the Japan Academy Prize for Picture of the Year, an award that underscores the critical acclaim and cultural significance of his films in Japan. This accolade is part of the Japan Academy Prizes, often regarded as the Japanese equivalent of the Academy Awards, which recognizes excellence in filmmaking and contributes to the promotion of Japanese cinema.\\n\\nThrough these achievements, Hayao Miyazaki has not only solidified his place as a titan in the animation industry but has also inspired countless artists and filmmakers around the world. His visionary storytelling, combined with his dedication to the craft of animation, continues to influence and shape the medium, making his work an integral part of the global cultural landscape.')"
      ]
     },
     "execution_count": 138,
     "metadata": {},
     "output_type": "execute_result"
    }
   ],
   "source": [
    "# enhanced answer about Hayao Miyazaki's career acheivements\n",
    "messages = [\n",
    "    SystemMessage(\n",
    "        content=\"You are a helpful assistant who generates information grounded with facts. Please enhance the original answer with complementary entity and relationship information from the knowledge graph to generate the final answer.\"\n",
    "    ),\n",
    "    HumanMessage(\n",
    "        content= f\"{originalAns_achievement} + {result_kg_achievements}\"\n",
    "    ),\n",
    "]\n",
    "final_ans_acheivement = chat.invoke(messages)\n",
    "final_ans_acheivement"
   ]
  },
  {
   "cell_type": "code",
   "execution_count": 142,
   "id": "78aefb1d-d788-481a-856e-6ffa0f855753",
   "metadata": {},
   "outputs": [
    {
     "data": {
      "text/plain": [
       "'Hayao Miyazaki is a renowned Japanese animator, filmmaker, and manga artist. He co-founded Studio Ghibli and has directed many critically acclaimed and commercially successful animated films, including Spirited Away which won the Academy Award for Best Animated Feature in 2003. Miyazaki is widely regarded as one of the most accomplished filmmakers in the history of animation.'"
      ]
     },
     "execution_count": 142,
     "metadata": {},
     "output_type": "execute_result"
    }
   ],
   "source": [
    "originalAns_achievement"
   ]
  },
  {
   "cell_type": "code",
   "execution_count": null,
   "id": "6ad9dac2-98a7-4698-b450-9b1b37d2071f",
   "metadata": {},
   "outputs": [],
   "source": []
  }
 ],
 "metadata": {
  "kernelspec": {
   "display_name": "Python 3 (ipykernel)",
   "language": "python",
   "name": "python3"
  },
  "language_info": {
   "codemirror_mode": {
    "name": "ipython",
    "version": 3
   },
   "file_extension": ".py",
   "mimetype": "text/x-python",
   "name": "python",
   "nbconvert_exporter": "python",
   "pygments_lexer": "ipython3",
   "version": "3.10.12"
  }
 },
 "nbformat": 4,
 "nbformat_minor": 5
}
